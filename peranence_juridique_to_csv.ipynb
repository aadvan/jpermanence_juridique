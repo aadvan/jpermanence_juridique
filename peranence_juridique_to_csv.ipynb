{
 "cells": [
  {
   "cell_type": "code",
   "execution_count": 71,
   "id": "b067216e-8c13-4016-8704-e5910869c571",
   "metadata": {},
   "outputs": [],
   "source": [
    "import pandas as pd\n",
    "import json\n",
    "import requests"
   ]
  },
  {
   "cell_type": "code",
   "execution_count": 84,
   "id": "ad097f18-7621-4e0d-a389-952b79479d67",
   "metadata": {},
   "outputs": [],
   "source": [
    "# Ajoute à la vairable data la réponse json de l'appel à l'API https://api.gouv.fr/documentation/api_etablissements_publics\n",
    "# avec le mot-clé \"permanence_juridique\"\n",
    "\n",
    "url = \"https://etablissements-publics.api.gouv.fr/v3/organismes/permanence_juridique\" \n",
    "response = requests.get(url)\n",
    "\n",
    "data = response.json()"
   ]
  },
  {
   "cell_type": "code",
   "execution_count": 87,
   "id": "b5b79532-a4cd-4b9a-9e7f-9f6f51451340",
   "metadata": {
    "tags": []
   },
   "outputs": [],
   "source": [
    "# ATTENTION : il manque les horaires\n",
    "\n",
    "# Initialisation des dictionnaires\n",
    "myAll = {}\n",
    "myDict = {}\n",
    "myAddresses = {}\n",
    "\n",
    "\n",
    "# La boucle va chercher pour chaque occurence dans le json l'identifiant qui sera une key dans le dict myAll()\n",
    "# Ensuite elle va chercher toutes les properties pour les mettre dans un dictonnaire \"temporaire\" myDict()\n",
    "# Toutes les properties contenu dans myDict() sont enfin ajoutée au dictionnaire myAll() avec pour key l'id de la permanance\n",
    "# PS : désolé pour les try : except : car ça pique un peu les yeux\n",
    "\n",
    "for x in data['features'][0]:\n",
    "    myDict = {}\n",
    "    identifiant = x['properties']['id']\n",
    "\n",
    "\n",
    "    myDict['coordinates'] = x['geometry']['coordinates']\n",
    "    myDict['codeInsee'] = x['properties']['codeInsee']\n",
    "    myDict['nom'] = x['properties']['nom']\n",
    "    \n",
    "    for a in x['properties']['adresses']:\n",
    "        myDict['adresse_ligne01'] = a['lignes'][0]\n",
    "        try :\n",
    "            myDict['adresse_ligne02'] = a['lignes'][1]\n",
    "        except: IndexError \n",
    "        \n",
    "        try:\n",
    "            myDict['adresse_ligne03'] = a['lignes'][2]\n",
    "        except: IndexError\n",
    "        \n",
    "        myDict['adresse_code_postal'] = a['codePostal']\n",
    "        myDict['adresse_commune'] = a['commune']\n",
    "        myDict['adresse_coordonnees'] = a['coordonnees']\n",
    "        \n",
    "    try :\n",
    "        myDict['e_mail'] = x['properties']['email']\n",
    "    except : \n",
    "        pass\n",
    "    \n",
    "    try :\n",
    "        myDict['telephone'] = x['properties']['telephone']\n",
    "    except : \n",
    "        pass\n",
    "\n",
    "    try :\n",
    "        myDict['url'] = x['properties']['url']\n",
    "    except :\n",
    "        pass\n",
    "    \n",
    "    try :\n",
    "        myDict['zonage_commune'] = x['properties']['zonage']['communes']\n",
    "    except :\n",
    "        pass\n",
    "    \n",
    "    try: \n",
    "        myDict['zonage_commune'] = x['properties']['zonage']['communes']\n",
    "    except: \n",
    "        pass\n",
    "    \n",
    "    myAll[identifiant] = myDict"
   ]
  },
  {
   "cell_type": "code",
   "execution_count": 88,
   "id": "d042da02-aa47-4fe8-8359-f86128fc5631",
   "metadata": {
    "tags": []
   },
   "outputs": [],
   "source": [
    "#Transforme le dictionnaire myAll() en dataframe puis réorganise l'ordre des colonnes et l'index\n",
    "\n",
    "df = pd.DataFrame.from_dict(myAll).transpose()\n",
    "df = df.reindex(columns = ['coordinates', 'codeInsee', 'nom', 'adresse_ligne01', 'adresse_ligne02', 'adresse_ligne03', 'adresse_code_postal', 'adresse_commune', 'adresse_coordonnees', 'telephone', 'e_mail', 'url', 'zonage_commune'])\n",
    "df = df.reset_index()"
   ]
  },
  {
   "cell_type": "code",
   "execution_count": 90,
   "id": "bf46a6ee-8068-4d3f-ada4-6efc795e0059",
   "metadata": {},
   "outputs": [],
   "source": [
    "#Export le dataframe en csv\n",
    "\n",
    "df.to_csv('~/scripts/jupyter/permanence_juridique/2020-02-08_permanence_juridique.csv')"
   ]
  },
  {
   "cell_type": "code",
   "execution_count": null,
   "id": "ba51b5df-138d-4679-b1a8-81b107239f13",
   "metadata": {},
   "outputs": [],
   "source": []
  }
 ],
 "metadata": {
  "kernelspec": {
   "display_name": "Python 3 (ipykernel)",
   "language": "python",
   "name": "python3"
  },
  "language_info": {
   "codemirror_mode": {
    "name": "ipython",
    "version": 3
   },
   "file_extension": ".py",
   "mimetype": "text/x-python",
   "name": "python",
   "nbconvert_exporter": "python",
   "pygments_lexer": "ipython3",
   "version": "3.8.10"
  }
 },
 "nbformat": 4,
 "nbformat_minor": 5
}
